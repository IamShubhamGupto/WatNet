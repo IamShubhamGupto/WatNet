{
 "metadata": {
  "language_info": {
   "codemirror_mode": {
    "name": "ipython",
    "version": 3
   },
   "file_extension": ".py",
   "mimetype": "text/x-python",
   "name": "python",
   "nbconvert_exporter": "python",
   "pygments_lexer": "ipython3",
   "version": "3.6.13"
  },
  "orig_nbformat": 2,
  "kernelspec": {
   "name": "python3",
   "display_name": "Python 3.6.13 64-bit ('venv-tf': conda)"
  },
  "metadata": {
   "interpreter": {
    "hash": "540331ab3874cc423b0568d77e5ba6321eb807f34352bd2dfeeaef70fdba3ae8"
   }
  },
  "interpreter": {
   "hash": "540331ab3874cc423b0568d77e5ba6321eb807f34352bd2dfeeaef70fdba3ae8"
  }
 },
 "nbformat": 4,
 "nbformat_minor": 2,
 "cells": [
  {
   "cell_type": "code",
   "execution_count": 1,
   "source": [
    "# ### mount on google drive\n",
    "# from google.colab import drive\n",
    "# drive.mount('/content/drive/')\n",
    "# import os\n",
    "# os.chdir(\"/content/drive/My Drive/WatNet/notebooks\")\n"
   ],
   "outputs": [],
   "metadata": {}
  },
  {
   "cell_type": "code",
   "execution_count": 2,
   "source": [
    "import os\n",
    "os.chdir('..')\n",
    "import time\n",
    "import random\n",
    "import numpy as np\n",
    "import pandas as pd\n",
    "import tensorflow as tf\n",
    "import matplotlib.pyplot as plt\n",
    "from utils.geotif_io import readTiff, writeTiff\n",
    "from utils.acc_pixel import acc_matrix\n",
    "from utils.imgPatch import imgPatch\n",
    "from model.seg_model.watnet import watnet\n",
    "from model.seg_model.deeplabv3_plus import deeplabv3_plus\n",
    "from model.seg_model.deepwatermapv2 import deepwatermapv2"
   ],
   "outputs": [],
   "metadata": {}
  },
  {
   "cell_type": "code",
   "execution_count": 123,
   "source": [
    "## --- test image \n",
    "path_S2_img = 'data/test-data/T10UCV_20190827T19191_6Bands_Mountain.tif'\n",
    "# path_S2_img = 'data/test-data/T13UCA_20190610T181921_6Bands_Cloudy.tif'\n",
    "# path_S2_img = 'data/test-data/T49QGF_20191017T025709_6Bands_Urban.tif'\n",
    "## --- test sample\n",
    "path_sam = 'data/test-data/val_sam_mountain.csv'\n",
    "# path_sam = 'data/test-data/val_sam_cloudy.csv'\n",
    "# path_sam = 'data/test-data/val_sam_urban.csv'\n",
    "\n",
    "## --- pre-trained model\n",
    "path_model = 'model/pretrained/watnet_2.h5'\n",
    "# path_model = 'model/pretrained/deepwatermapv2.h5'\n",
    "## --- result path to save\n",
    "path_result_map = 'result/result_.tif'\n",
    "## --- super parameters\n",
    "patch_size = 512\n",
    "overlay = 80  # the overlay area between neighboring patches\n"
   ],
   "outputs": [],
   "metadata": {}
  },
  {
   "cell_type": "code",
   "execution_count": 124,
   "source": [
    "# -----Load and prepare the satellite image data -----#\n",
    "sen2_img, img_info = readTiff(path_in=path_S2_img)\n",
    "sen2_img = np.float32(np.clip(sen2_img/10000, a_min=0, a_max=1))  ## normalization\n",
    "plt.figure(figsize=(6,6))\n",
    "plt.imshow(sen2_img[:, :, (2,1,0)]*5)\n"
   ],
   "outputs": [],
   "metadata": {}
  },
  {
   "cell_type": "code",
   "execution_count": null,
   "source": [
    "###  ----- load the pretrained model -----#\n",
    "model = watnet(input_shape=(512, 512, 6), nclasses=2)\n",
    "# model = deeplabv3_plus(nclasses=2, input_shape=(512, 512, 6))\n",
    "# model = deepwatermapv2(min_width=4)\n",
    "model.load_weights(path_model)\n"
   ],
   "outputs": [
    {
     "output_type": "error",
     "ename": "Error",
     "evalue": "Kernel is dead",
     "traceback": [
      "Error: Kernel is dead",
      "at g._sendKernelShellControl (/home/yons/.vscode-server/extensions/ms-toolsai.jupyter-2021.8.1054968649/out/client/extension.js:52:852938)",
      "at g.sendShellMessage (/home/yons/.vscode-server/extensions/ms-toolsai.jupyter-2021.8.1054968649/out/client/extension.js:52:852707)",
      "at g.requestExecute (/home/yons/.vscode-server/extensions/ms-toolsai.jupyter-2021.8.1054968649/out/client/extension.js:52:855249)",
      "at d.requestExecute (/home/yons/.vscode-server/extensions/ms-toolsai.jupyter-2021.8.1054968649/out/client/extension.js:37:313885)",
      "at w.requestExecute (/home/yons/.vscode-server/extensions/ms-toolsai.jupyter-2021.8.1054968649/out/client/extension.js:24:134487)",
      "at w.executeCodeCell (/home/yons/.vscode-server/extensions/ms-toolsai.jupyter-2021.8.1054968649/out/client/extension.js:90:319834)",
      "at w.execute (/home/yons/.vscode-server/extensions/ms-toolsai.jupyter-2021.8.1054968649/out/client/extension.js:90:319389)",
      "at w.start (/home/yons/.vscode-server/extensions/ms-toolsai.jupyter-2021.8.1054968649/out/client/extension.js:90:315205)",
      "at async t.CellExecutionQueue.executeQueuedCells (/home/yons/.vscode-server/extensions/ms-toolsai.jupyter-2021.8.1054968649/out/client/extension.js:90:329732)",
      "at async t.CellExecutionQueue.start (/home/yons/.vscode-server/extensions/ms-toolsai.jupyter-2021.8.1054968649/out/client/extension.js:90:329272)"
     ]
    }
   ],
   "metadata": {}
  },
  {
   "cell_type": "code",
   "execution_count": null,
   "source": [
    "## surface water mapping from sentinel-2 image\n",
    "with tf.device('/device:GPU:0'):\n",
    "    imgPatch_ins = imgPatch(sen2_img, patch_size, overlay)\n",
    "    patch_list, start_list, img_patch_row, img_patch_col = imgPatch_ins.toPatch()\n",
    "    result_patch_list = [model(patch[np.newaxis, :]) for patch in patch_list]\n",
    "    result_patch_list = [np.squeeze(patch, axis = 0) for patch in result_patch_list]\n",
    "    pro_map = imgPatch_ins.toImage(result_patch_list, img_patch_row, img_patch_col)\n",
    "    cla_map = np.where(pro_map>0.5, 1, 0)\n"
   ],
   "outputs": [],
   "metadata": {}
  },
  {
   "cell_type": "code",
   "execution_count": null,
   "source": [
    "## show the accuracy\n",
    "df_sam = pd.read_csv(path_sam, header=0)\n",
    "acc_oa, acc_prod, acc_user, confus_mat = acc_matrix(cla_map, df_sam.to_numpy(), id_label=1)\n",
    "print('OA:', acc_oa)\n",
    "print('Producer acc:', acc_prod)\n",
    "print('user acc:', acc_user)\n",
    "print('Confusion matrix:', np.around(confus_mat,4))\n",
    "plt.matshow(confus_mat,cmap=plt.cm.Greys, fignum=0)\n",
    "plt.colorbar()\n"
   ],
   "outputs": [
    {
     "output_type": "stream",
     "name": "stdout",
     "text": [
      "OA: 0.98\n",
      "Producer acc: 0.9933\n",
      "user acc: 0.9674\n",
      "Confusion matrix: [[290  10]\n",
      " [  2 297]]\n"
     ]
    },
    {
     "output_type": "execute_result",
     "data": {
      "text/plain": [
       "<matplotlib.colorbar.Colorbar at 0x7fb4942e7ba8>"
      ]
     },
     "metadata": {},
     "execution_count": 119
    },
    {
     "output_type": "display_data",
     "data": {
      "text/plain": [
       "<Figure size 432x288 with 2 Axes>"
      ],
      "image/png": "[encoded data removed]"
     },
     "metadata": {
      "needs_background": "light"
     }
    }
   ],
   "metadata": {}
  },
  {
   "cell_type": "code",
   "execution_count": null,
   "source": [
    "# save the result\n",
    "# writeTiff(im_data=cla_map.astype(np.int8), im_transform=img_src.transform, im_crs=img_src.crs, path_out = path_result_map)\n"
   ],
   "outputs": [],
   "metadata": {}
  },
  {
   "cell_type": "markdown",
   "source": [
    "## Accuracy comparison"
   ],
   "metadata": {}
  },
  {
   "cell_type": "code",
   "execution_count": null,
   "source": [
    "# path_result_map_1 = 'result/result_mountain_watnet.tif'\n",
    "# path_result_map_2 = 'result/result_mountain_deepwatermapv2.tif'\n",
    "# # path_result_map_3 = 'result/result_urban_watnet_3.tif'\n",
    "\n",
    "# path_sam = 'data/test-data/val_sam_mountain.csv'\n",
    "# map_src_1, cla_map_1 = readTiff(path_in=path_result_map_1)\n",
    "# map_src_2, cla_map_2 = readTiff(path_in=path_result_map_2)\n",
    "# # map_src_3, cla_map_3 = readTiff(path_in=path_result_map_3)\n",
    "# df_sam = pd.read_csv(path_sam, header=0)\n"
   ],
   "outputs": [],
   "metadata": {}
  },
  {
   "cell_type": "code",
   "execution_count": null,
   "source": [
    "# acc_oa, acc_prod, acc_user, confus_mat = acc_matrix(cla_map_1, df_sam.to_numpy(), id_label=1)\n",
    "# print('watnet OA:', acc_oa)\n",
    "# acc_oa, acc_prod, acc_user, confus_mat = acc_matrix(cla_map_2, df_sam.to_numpy(), id_label=1)\n",
    "# print('watnet_2 OA:', acc_oa)\n",
    "# # acc_oa, acc_prod, acc_user, confus_mat = acc_matrix(cla_map_3, df_sam.to_numpy(), id_label=1)\n",
    "# # print('watnet_3 OA:', acc_oa)"
   ],
   "outputs": [],
   "metadata": {}
  }
 ]
}